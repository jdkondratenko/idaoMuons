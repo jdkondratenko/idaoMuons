{
 "cells": [
  {
   "cell_type": "markdown",
   "metadata": {
    "collapsed": true,
    "deletable": true,
    "editable": true
   },
   "source": [
    "# Muon identification"
   ]
  },
  {
   "cell_type": "code",
   "execution_count": 1,
   "metadata": {
    "collapsed": true,
    "deletable": true,
    "editable": true
   },
   "outputs": [],
   "source": [
    "import numpy as np\n",
    "import pandas as pd \n",
    "import sklearn\n",
    "import gc\n",
    "import matplotlib.pyplot as plt\n",
    "from sklearn.metrics import mean_squared_error\n",
    "import pickle\n",
    "import random\n",
    "import math\n",
    "import seaborn\n",
    "import time\n",
    "%matplotlib inline \n",
    "\n",
    "pd.set_option('display.max_rows', 600)\n",
    "pd.set_option('display.max_columns', 50)\n",
    "\n",
    "import lightgbm as lgb\n",
    "from sklearn import preprocessing\n",
    "from sklearn.linear_model import LinearRegression, LogisticRegression, SGDRegressor\n",
    "from sklearn.ensemble import RandomForestRegressor, RandomForestClassifier\n",
    "from sklearn.svm import LinearSVC\n",
    "from sklearn.metrics import r2_score\n",
    "from sklearn.model_selection import train_test_split, GridSearchCV, RandomizedSearchCV\n",
    "from tqdm import tqdm_notebook\n",
    "from sklearn.externals import joblib\n",
    "from scipy import stats\n",
    "from sklearn.preprocessing import MinMaxScaler\n",
    "from math import isclose\n",
    "\n",
    "from itertools import product"
   ]
  },
  {
   "cell_type": "code",
   "execution_count": 31,
   "metadata": {
    "collapsed": false
   },
   "outputs": [
    {
     "name": "stdout",
     "output_type": "stream",
     "text": [
      "numpy 1.14.5\n",
      "pandas 0.19.2\n",
      "sklearn 0.19.0\n",
      "lightgbm 2.0.6\n"
     ]
    }
   ],
   "source": [
    "for p in [np, pd, sklearn, lgb]:\n",
    "    print (p.__name__, p.__version__)"
   ]
  },
  {
   "cell_type": "markdown",
   "metadata": {
    "deletable": true,
    "editable": true
   },
   "source": [
    "## Data preprocessing"
   ]
  },
  {
   "cell_type": "code",
   "execution_count": 2,
   "metadata": {
    "collapsed": false,
    "deletable": true,
    "editable": true
   },
   "outputs": [],
   "source": [
    "train1 = pd.read_csv('./train_part_1_v2.csv.gz')\n",
    "train2 = pd.read_csv('./train_part_2_v2.csv.gz')\n",
    "test_final = pd.read_csv('./test_private_v3_track_1.csv.gz')\n",
    "submission = pd.read_csv('./sample_submission.csv')"
   ]
  },
  {
   "cell_type": "code",
   "execution_count": 3,
   "metadata": {
    "collapsed": true,
    "deletable": true,
    "editable": true
   },
   "outputs": [],
   "source": [
    "train1 = pd.concat([train1, train2], ignore_index=True)"
   ]
  },
  {
   "cell_type": "code",
   "execution_count": 4,
   "metadata": {
    "collapsed": false,
    "deletable": true,
    "editable": true
   },
   "outputs": [],
   "source": [
    "train1 = train1.replace(-9999, np.nan)\n",
    "train1 = train1.dropna()"
   ]
  },
  {
   "cell_type": "code",
   "execution_count": 5,
   "metadata": {
    "collapsed": true,
    "deletable": true,
    "editable": true
   },
   "outputs": [],
   "source": [
    "train1 = train1.reset_index(drop=True)"
   ]
  },
  {
   "cell_type": "code",
   "execution_count": 8,
   "metadata": {
    "collapsed": false,
    "deletable": true,
    "editable": true
   },
   "outputs": [
    {
     "data": {
      "text/plain": [
       "<matplotlib.axes._subplots.AxesSubplot at 0x1ffb333b1d0>"
      ]
     },
     "execution_count": 8,
     "metadata": {},
     "output_type": "execute_result"
    },
    {
     "data": {
      "image/png": "[encoded data removed]",
      "text/plain": [
       "<matplotlib.figure.Figure at 0x1ffb188c128>"
      ]
     },
     "metadata": {},
     "output_type": "display_data"
    }
   ],
   "source": [
    "train1['particle_type'].hist()"
   ]
  },
  {
   "cell_type": "markdown",
   "metadata": {
    "deletable": true,
    "editable": true
   },
   "source": [
    "Muons are overrepresented in our sample. To make amounts of muon and other particles roughly equal I had to discard most of dataset rows corresponding to muons. I checked that such reduction of dataset size doesn't lead to significant decline of prediction quality."
   ]
  },
  {
   "cell_type": "code",
   "execution_count": 6,
   "metadata": {
    "collapsed": false,
    "deletable": true,
    "editable": true
   },
   "outputs": [
    {
     "name": "stdout",
     "output_type": "stream",
     "text": [
      "Number of muon particls = 4907392\n",
      "Number of other particls = 369845\n"
     ]
    }
   ],
   "source": [
    "muons_number = train1[train1.particle_type == 1].shape[0]\n",
    "print(\"Number of muon particls = {}\".format(muons_number))\n",
    "print(\"Number of other particls = {}\".format(train1.shape[0] - muons_number))"
   ]
  },
  {
   "cell_type": "markdown",
   "metadata": {
    "deletable": true,
    "editable": true
   },
   "source": [
    "I left 400000 muons in dataset, that is roughly equal to other particles sum."
   ]
  },
  {
   "cell_type": "code",
   "execution_count": 7,
   "metadata": {
    "collapsed": true,
    "deletable": true,
    "editable": true
   },
   "outputs": [],
   "source": [
    "np.random.seed(5)\n",
    "sample = np.random.choice(train1[train1.particle_type == 1].index, muons_number - 400000, replace=False)\n",
    "bad_df = train1.index.isin(sample)\n",
    "train1 = train1.loc[~bad_df]"
   ]
  },
  {
   "cell_type": "code",
   "execution_count": 8,
   "metadata": {
    "collapsed": true,
    "deletable": true,
    "editable": true
   },
   "outputs": [],
   "source": [
    "train1 = train1.reset_index(drop=True)"
   ]
  },
  {
   "cell_type": "code",
   "execution_count": 9,
   "metadata": {
    "collapsed": false,
    "deletable": true,
    "editable": true
   },
   "outputs": [
    {
     "data": {
      "text/plain": [
       "<matplotlib.axes._subplots.AxesSubplot at 0x182a3d06a90>"
      ]
     },
     "execution_count": 9,
     "metadata": {},
     "output_type": "execute_result"
    },
    {
     "data": {
      "image/png": "[encoded data removed]",
      "text/plain": [
       "<matplotlib.figure.Figure at 0x18368f5c240>"
      ]
     },
     "metadata": {},
     "output_type": "display_data"
    }
   ],
   "source": [
    "train1['particle_type'].hist()"
   ]
  },
  {
   "cell_type": "markdown",
   "metadata": {},
   "source": [
    "Now amounts of all three types of particles are comparable, and number of muons is about the same as number of protons and pions in total."
   ]
  },
  {
   "cell_type": "code",
   "execution_count": 10,
   "metadata": {
    "collapsed": true,
    "deletable": true,
    "editable": true
   },
   "outputs": [],
   "source": [
    "y_values = train1.label.values"
   ]
  },
  {
   "cell_type": "code",
   "execution_count": 11,
   "metadata": {
    "collapsed": true,
    "deletable": true,
    "editable": true
   },
   "outputs": [],
   "source": [
    "train1 = train1.drop(['label'], axis=1)"
   ]
  },
  {
   "cell_type": "markdown",
   "metadata": {},
   "source": [
    "Below are some functions for making new variables and discarding not very useful ones. I took some function from utils.py from this repository: https://github.com/yandexdataschool/IDAO-2019-muon-id"
   ]
  },
  {
   "cell_type": "code",
   "execution_count": 12,
   "metadata": {
    "collapsed": false,
    "deletable": true,
    "editable": true
   },
   "outputs": [],
   "source": [
    "# These pad constants correspond to pad x and y dimensions. \n",
    "# I took them from this document: https://iopscience.iop.org/article/10.1088/1748-0221/3/08/S08005/pdf, page 128,\n",
    "# table in upper part. Actually they should be used as 0.63 for x dimension of M1 detector and 3.1 for y dimension of M1\n",
    "# detectors but for some reasons feature appered to become a bit more useful when I used products like 0.63 * 3.1 for both\n",
    "# x and y dimensions of M1 detector and so on.\n",
    "PAD0, PAD1, PAD2, PAD3 = 0.63 * 3.1, 0.67 * 3.4, 2.9 * 3.6, 3.1 * 3.9\n",
    "\n",
    "\n",
    "# These ones I took from utils.py\n",
    "N_STATIONS = 4\n",
    "FEATURES_PER_STATION = 6\n",
    "N_FOI_FEATURES = N_STATIONS*FEATURES_PER_STATION\n",
    "EMPTY_FILLER = -9000\n",
    "\n",
    "\n",
    "# This one parses array in form of string. I also took it from utils.py\n",
    "def parse_array(line, dtype=np.float32):\n",
    "    return np.fromstring(line[1:-1], sep=\" \", dtype=dtype)\n",
    "\n",
    "\n",
    "# This one finds closes hits to extrapolated track from ones from FOI field. I also took it from utils.py\n",
    "def find_closest_hit_per_station(row):\n",
    "    result = np.empty(N_FOI_FEATURES, dtype=np.float32)\n",
    "    closest_x_per_station = result[0:4]\n",
    "    closest_y_per_station = result[4:8]\n",
    "    closest_T_per_station = result[8:12]\n",
    "    closest_z_per_station = result[12:16]\n",
    "    closest_dx_per_station = result[16:20]\n",
    "    closest_dy_per_station = result[20:24]\n",
    "    \n",
    "    for station in range(4):\n",
    "        hits = (row[\"FOI_hits_S\"] == station)\n",
    "        if not hits.any():\n",
    "            closest_x_per_station[station] = EMPTY_FILLER\n",
    "            closest_y_per_station[station] = EMPTY_FILLER\n",
    "            closest_T_per_station[station] = EMPTY_FILLER\n",
    "            closest_z_per_station[station] = EMPTY_FILLER\n",
    "            closest_dx_per_station[station] = EMPTY_FILLER\n",
    "            closest_dy_per_station[station] = EMPTY_FILLER\n",
    "        else:\n",
    "            x_distances_2 = (row[\"Lextra_X[%i]\" % station] - row[\"FOI_hits_X\"][hits])**2\n",
    "            y_distances_2 = (row[\"Lextra_Y[%i]\" % station] - row[\"FOI_hits_Y\"][hits])**2\n",
    "            distances_2 = x_distances_2 + y_distances_2\n",
    "            closest_hit = np.argmin(distances_2)\n",
    "            closest_x_per_station[station] = x_distances_2[closest_hit]\n",
    "            closest_y_per_station[station] = y_distances_2[closest_hit]\n",
    "            closest_T_per_station[station] = row[\"FOI_hits_T\"][hits][closest_hit]\n",
    "            closest_z_per_station[station] = row[\"FOI_hits_Z\"][hits][closest_hit]\n",
    "            closest_dx_per_station[station] = row[\"FOI_hits_DX\"][hits][closest_hit]\n",
    "            closest_dy_per_station[station] = row[\"FOI_hits_DY\"][hits][closest_hit]\n",
    "    return result\n",
    "\n",
    "\n",
    "# These function integrates all data processing including something I didn't take from utils.py\n",
    "def process_df(df):\n",
    "    # This dist feature uses d2 formula from this poster: \n",
    "    # https://indico.cern.ch/event/491582/contributions/1168914/attachments/1236304/1815447/LHCC_Cogoni_v4.pdf wth slight \n",
    "    # modifications, see comment about pad constants above.\n",
    "    df['dist'] = ((df['MatchedHit_X[0]'] - df['Lextra_X[0]']) / PAD0) ** 2 + \\\n",
    "    ((df['MatchedHit_X[1]'] - df['Lextra_X[1]']) / PAD1) ** 2 + \\\n",
    "    ((df['MatchedHit_X[2]'] - df['Lextra_X[2]']) / PAD2) ** 2 + \\\n",
    "    ((df['MatchedHit_X[3]'] - df['Lextra_X[3]']) / PAD3) ** 2 + \\\n",
    "    ((df['MatchedHit_Y[0]'] - df['Lextra_Y[0]']) / PAD0) ** 2 + \\\n",
    "    ((df['MatchedHit_Y[1]'] - df['Lextra_Y[1]']) / PAD1) ** 2 + \\\n",
    "    ((df['MatchedHit_Y[2]'] - df['Lextra_Y[2]']) / PAD2) ** 2 + \\\n",
    "    ((df['MatchedHit_Y[3]'] - df['Lextra_Y[3]']) / PAD3) ** 2\n",
    "    \n",
    "    # This feature equals to 1 if all MatchHit_TYPE features for curret object are equal to 1 (i.e all matchs happend). It \n",
    "    # equals to zero otherswise.\n",
    "    df['all_match'] = df['MatchedHit_TYPE[0]'] + df['MatchedHit_TYPE[1]'] + df['MatchedHit_TYPE[2]'] + df['MatchedHit_TYPE[3]']\n",
    "    df['all_match_one'] = 0\n",
    "    df.loc[df['all_match'].abs() == 8, 'all_match_one'] = 1\n",
    "    df = df.drop(['all_match'], axis=1)\n",
    "    \n",
    "    # Here I parse some collumns from strings to list. Some of these columns are supposed to be ints, and some - floats.\n",
    "    col_lst = ['FOI_hits_X', 'FOI_hits_Y', 'FOI_hits_Z', 'FOI_hits_DX', 'FOI_hits_DY', 'FOI_hits_DZ']\n",
    "    for col in col_lst:\n",
    "        df[col] = df[col].apply(lambda x: parse_array(x))\n",
    "        \n",
    "    col_lst = ['FOI_hits_T', 'FOI_hits_DT', 'FOI_hits_S']\n",
    "    for col in col_lst:\n",
    "        df[col] = df[col].apply(lambda x: parse_array(x, dtype=np.int16))\n",
    "        \n",
    "    # Here I make closest features using function from utils.py\n",
    "    df[['closest_x0', 'closest_x1', 'closest_x2', 'closest_x3', 'closest_y0', 'closest_y1', 'closest_y2', 'closest_y3', \\\n",
    "        'closest_t0', 'closest_t1', 'closest_t2', 'closest_t3', 'closest_z0', 'closest_z1', 'closest_z2', 'closest_z3', \\\n",
    "        'closest_dx0', 'closest_dx1', 'closest_dx2', 'closest_dx3', 'closest_dy0', 'closest_dy1', \\\n",
    "        'closest_dy2', 'closest_dy3']] =  df.apply(lambda row: pd.Series(find_closest_hit_per_station(row)), axis = 1)\n",
    "    \n",
    "    col_lst = ['FOI_hits_X', 'FOI_hits_Y', 'FOI_hits_Z', 'FOI_hits_DX', 'FOI_hits_DY', \\\n",
    "               'FOI_hits_DZ', 'FOI_hits_T', 'FOI_hits_DT', 'FOI_hits_S']\n",
    "    \n",
    "    # I count mean and std for parsed lists.\n",
    "    for col in col_lst:\n",
    "        col_mean = col + \"_mean\"\n",
    "        col_std = col + \"_std\"\n",
    "        df[col_mean] = df[col].apply(lambda x: np.mean(x))\n",
    "        df[col_std] = df[col].apply(lambda x: np.std(x))\n",
    "    \n",
    "    # Here I delete columns that appeared to be useless. For instance, I cannot use columns with lists, though I extracted\n",
    "    # some useful data from them.\n",
    "    cols_to_drop = ['ndof', 'FOI_hits_X_mean', 'FOI_hits_Y_mean', 'FOI_hits_X', 'FOI_hits_Y', \\\n",
    "                    'FOI_hits_Z', 'FOI_hits_DX', 'FOI_hits_DY', 'FOI_hits_DZ', 'FOI_hits_T', 'FOI_hits_DT', 'FOI_hits_S']\n",
    "    df = df.drop(cols_to_drop, axis=1)\n",
    "    \n",
    "    # Corresponding Lextra_? and MatchedHit_? were highly correlated. So I made new collumns storing differences between \n",
    "    # such columns and deleted Lextra columns.\n",
    "    for i in range(4):\n",
    "        new_col_x = 'x_dif_' + str(i)\n",
    "        lextra_x = 'Lextra_X[{}]'.format(i)\n",
    "        matched_hit_x = 'MatchedHit_X[{}]'.format(i) \n",
    "        df[new_col_x] = df[lextra_x] - df[matched_hit_x]\n",
    "        \n",
    "    for i in range(4):\n",
    "        new_col_y = 'y_dif_' + str(i)\n",
    "        lextra_y = 'Lextra_Y[{}]'.format(i)\n",
    "        matched_hit_y = 'MatchedHit_Y[{}]'.format(i)\n",
    "        df[new_col_y] = df[lextra_y] - df[matched_hit_y]\n",
    "        \n",
    "    df = df.drop(['Lextra_X[0]', 'Lextra_X[1]', 'Lextra_X[2]', 'Lextra_X[3]', 'Lextra_Y[0]', \\\n",
    "                  'Lextra_Y[1]', 'Lextra_Y[2]', 'Lextra_Y[3]'], axis=1)\n",
    "    \n",
    "    return df    "
   ]
  },
  {
   "cell_type": "code",
   "execution_count": 13,
   "metadata": {
    "collapsed": false,
    "deletable": true,
    "editable": true
   },
   "outputs": [],
   "source": [
    "train1 = process_df(train1)"
   ]
  },
  {
   "cell_type": "code",
   "execution_count": 14,
   "metadata": {
    "collapsed": true,
    "deletable": true,
    "editable": true
   },
   "outputs": [],
   "source": [
    "X_train, X_test, y_train, y_test = train_test_split(train1.drop(['id', 'weight', 'particle_type', 'sWeight','kinWeight'], axis=1), y_values, test_size=0.2, random_state=99)"
   ]
  },
  {
   "cell_type": "markdown",
   "metadata": {},
   "source": [
    "## Model training"
   ]
  },
  {
   "cell_type": "markdown",
   "metadata": {},
   "source": [
    "Previously I used GridSearchCV to search for good parameters. It took a while."
   ]
  },
  {
   "cell_type": "code",
   "execution_count": 17,
   "metadata": {
    "collapsed": false,
    "deletable": true,
    "editable": true
   },
   "outputs": [
    {
     "name": "stderr",
     "output_type": "stream",
     "text": [
      "c:\\users\\julia\\appdata\\local\\programs\\python\\python35\\lib\\site-packages\\sklearn\\preprocessing\\label.py:151: DeprecationWarning: The truth value of an empty array is ambiguous. Returning False, but in future this will result in an error. Use `array.size > 0` to check that an array is not empty.\n",
      "  if diff:\n"
     ]
    },
    {
     "name": "stdout",
     "output_type": "stream",
     "text": [
      "Wall time: 8min 46s\n"
     ]
    }
   ],
   "source": [
    "%%time\n",
    "model = lgb.LGBMClassifier(objective='binary', nthread=4)\n",
    "opt_params = {'min_data_in_leaf': 128, \n",
    "              'feature_fraction': 0.75, \n",
    "              'learning_rate': 0.035, \n",
    "              'n_estimators': 1000, \n",
    "              'verbose': 0, \n",
    "              'num_leaves': 512, \n",
    "              'bagging_fraction': 0.8, \n",
    "              'reg_lambda': 0.1, \n",
    "              'bagging_freq': 1, \n",
    "              'bagging_seed': 128}\n",
    "model.set_params(**opt_params)\n",
    "model.fit(X_train, y_train)\n",
    "pred_lgb = model.predict(X_test)"
   ]
  },
  {
   "cell_type": "code",
   "execution_count": 18,
   "metadata": {
    "collapsed": false,
    "deletable": true,
    "editable": true
   },
   "outputs": [
    {
     "name": "stdout",
     "output_type": "stream",
     "text": [
      "Test rsem for LightGBM is 0.367271\n"
     ]
    }
   ],
   "source": [
    "pred_lgb_proba = model.predict_proba(X_test)\n",
    "print('Test rsem for LightGBM is %f' % np.sqrt(mean_squared_error(y_test, pred_lgb_proba[:,1])))"
   ]
  },
  {
   "cell_type": "markdown",
   "metadata": {},
   "source": [
    "## Prediction for private test"
   ]
  },
  {
   "cell_type": "code",
   "execution_count": 20,
   "metadata": {
    "collapsed": true
   },
   "outputs": [],
   "source": [
    "test_final = process_df(test_final)"
   ]
  },
  {
   "cell_type": "code",
   "execution_count": 27,
   "metadata": {
    "collapsed": true
   },
   "outputs": [],
   "source": [
    "test_final = test_final.drop(['id'], axis=1)"
   ]
  },
  {
   "cell_type": "code",
   "execution_count": 28,
   "metadata": {
    "collapsed": true,
    "deletable": true,
    "editable": true
   },
   "outputs": [],
   "source": [
    "pred_lgb = model.predict_proba(test_final)\n",
    "pred_lgb = pred_lgb[:,1]"
   ]
  },
  {
   "cell_type": "code",
   "execution_count": 30,
   "metadata": {
    "collapsed": true,
    "deletable": true,
    "editable": true
   },
   "outputs": [],
   "source": [
    "with open(\"submission_final.csv\", \"w\") as f:\n",
    "    f.write(\"id,prediction\\n\")\n",
    "    for i in range(test_final.shape[0]):\n",
    "        f.write(\"%d,%.3f\\n\" % (i, pred_lgb[i]))"
   ]
  },
  {
   "cell_type": "markdown",
   "metadata": {
    "collapsed": true,
    "deletable": true,
    "editable": true
   },
   "source": [
    "[Had to cut some decimals to fit into submission system file size limit]"
   ]
  },
  {
   "cell_type": "code",
   "execution_count": null,
   "metadata": {
    "collapsed": true
   },
   "outputs": [],
   "source": []
  }
 ],
 "metadata": {
  "kernelspec": {
   "display_name": "Python 3",
   "language": "python",
   "name": "python3"
  },
  "language_info": {
   "codemirror_mode": {
    "name": "ipython",
    "version": 3
   },
   "file_extension": ".py",
   "mimetype": "text/x-python",
   "name": "python",
   "nbconvert_exporter": "python",
   "pygments_lexer": "ipython3",
   "version": "3.5.2"
  }
 },
 "nbformat": 4,
 "nbformat_minor": 2
}
